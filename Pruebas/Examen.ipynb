{
 "cells": [
  {
   "cell_type": "markdown",
   "metadata": {},
   "source": [
    "###### 1 - Quins són els tipus natius del llenguatge que s’han explicat a classe i quin nom reben en Python exactament?\n",
    "\n",
    "string str()\n",
    "entero int()\n",
    "decimal float()\n",
    "Boliano True/False"
   ]
  },
  {
   "cell_type": "markdown",
   "metadata": {},
   "source": [
    "###### Quins són els diferents contenidors de dades vistos a classe, quin nom té la classe de cadascun en Python? Enumera 3 mètodes diferents de cada classe, utilitza sobretot mètodes exclusius d’aquella classe i explica el que fan.\n",
    "\n",
    "Dicionarios =dict() o {}\n",
    "Tupla = tuple()\n",
    "listas = [] o list()\n",
    "Conjuntos = set()\n"
   ]
  },
  {
   "cell_type": "markdown",
   "metadata": {},
   "source": [
    "Programacion\n"
   ]
  },
  {
   "cell_type": "code",
   "execution_count": 25,
   "metadata": {},
   "outputs": [
    {
     "name": "stdout",
     "output_type": "stream",
     "text": [
      "adolescent\n"
     ]
    }
   ],
   "source": [
    "#Ej 1 \n",
    "\n",
    "num = int(input(\"Introduce tu edad \"))\n",
    "\n",
    "if num < 13:\n",
    "    print(\"Menor\")\n",
    "elif num < 19:\n",
    "    print(\"adolescent\")\n",
    "else:\n",
    "    print(\"adult senior\")"
   ]
  },
  {
   "cell_type": "code",
   "execution_count": null,
   "metadata": {},
   "outputs": [
    {
     "name": "stdout",
     "output_type": "stream",
     "text": [
      "Has introducido mas de una vocal\n"
     ]
    }
   ],
   "source": [
    "# Ej 2\n",
    "letra = input(\"Introduce una letra bambi\")\n",
    "letra = letra.lower()\n",
    "\n",
    "vocales = [\"a\",\"e\",\"i\",\"o\",\"u\"]\n",
    "if  len(letra) == 1 :\n",
    "    if letra in vocales:\n",
    "        print(\"Es una vocal\")\n",
    "else: \n",
    "    print(\"Has introducido mas de una vocal\")"
   ]
  },
  {
   "cell_type": "code",
   "execution_count": null,
   "metadata": {},
   "outputs": [],
   "source": [
    "# 3\n",
    "print(\"Calculadora Bàsica\")\n",
    "num1 = int(input(\"introduce un numero\"))\n",
    "num2  = int(input(\"Introduce otro numero\"))\n",
    "print(\"1) Resta primer numero con el otro\")\n",
    "print(\"2) suma primer numero con el otro\")\n",
    "print(\"3) Multiplicacion primer numero con el otro\")\n",
    "print(\"4) Resta primer numero con el otro\")\n",
    "opcion= input(\"Elige una opcion\")\n",
    "match opcion:\n",
    "    case \"1\":\n",
    "        print(f\"La resta es: {num1-num2}\")\n",
    "    case \"2\":\n",
    "        print(f\"La suma es: {num1+num2}\")\n",
    "    case \"3\":\n",
    "        print(f\"La multiplicacion es: {num1*num2}\")\n",
    "    case \"4\":\n",
    "        print(f\"La division es: {num1/num2}\")"
   ]
  },
  {
   "cell_type": "code",
   "execution_count": 26,
   "metadata": {},
   "outputs": [
    {
     "name": "stdout",
     "output_type": "stream",
     "text": [
      "Hay 2 de elementos reptidos en lista 1 \n",
      "Hay 2 de elementos reptidos en lista 2 \n"
     ]
    }
   ],
   "source": [
    "n = int(input(\"Intro\"))\n",
    "list1 = []\n",
    "list2 = []\n",
    "replist1 = 0\n",
    "replist2 = 0 \n",
    "for i in range(n):\n",
    "    i = int(input(\"introduce tu numero\"))\n",
    "    list1.append(i)\n",
    "\n",
    "m = int(input(\"Introduce otro para otro contenedor\"))\n",
    "\n",
    "for j in range(m):\n",
    "    j = int(input(\"introduce tu numero\"))\n",
    "    list2.append(j)\n",
    "\n",
    "for m in range(len(list1)): \n",
    "    if list1.count(m) >= 2: \n",
    "        replist1 +=1\n",
    "\n",
    "for n in range(len(list2)): \n",
    "    if list2.count(n) >= 2: \n",
    "        replist2 +=1\n",
    "\n",
    "print(f\"Hay {replist1} de elementos reptidos en lista 1 \")\n",
    "print(f\"Hay {replist2} de elementos reptidos en lista 2 \")"
   ]
  },
  {
   "cell_type": "code",
   "execution_count": 1,
   "metadata": {},
   "outputs": [
    {
     "name": "stdout",
     "output_type": "stream",
     "text": [
      "0 1 1 2 3 5 8 13 21 34 55 89 144 "
     ]
    }
   ],
   "source": [
    "# 6 Fibonaci\n",
    "num = int(input(\"Introduce nuemro\"))\n",
    "a , b = 0 , 1 \n",
    "for i in range(num):\n",
    "    print(a, end=\" \")\n",
    "    a , b = b , a + b \n"
   ]
  },
  {
   "cell_type": "code",
   "execution_count": 2,
   "metadata": {},
   "outputs": [
    {
     "name": "stdout",
     "output_type": "stream",
     "text": [
      "2 Es primo\n",
      "3 Es primo\n",
      "5 Es primo\n",
      "7 Es primo\n"
     ]
    }
   ],
   "source": [
    "# 7 Impares\n",
    "\n",
    "num = int(input(\"Introduce tu numero\"))\n",
    "i = 0\n",
    "while i <= num:\n",
    "    j = 1\n",
    "    while j < i:\n",
    "        j +=1\n",
    "        if i == j:\n",
    "            print(i,\"Es primo\")\n",
    "        if i % j == 0:\n",
    "            break\n",
    "    i +=1\n",
    "        "
   ]
  },
  {
   "cell_type": "code",
   "execution_count": null,
   "metadata": {},
   "outputs": [],
   "source": [
    "   while True: \n",
    "      print(\"\"\"\n",
    "      1 - Comprovar si un nombre és primer.\n",
    "      2 - Comprovar si un nombre forma part de la sèrie de Fibonacci.\n",
    "      3 - Comprovar si un nombre és parell.\n",
    "      4 - Transformar una temperatura de graus Celsius en graus Fahrenheit\n",
    "      5 - Sortir del programa\n",
    "\n",
    "      \"\"\") \n",
    "\n",
    "      op = input(\"Introduce tu opcion\")\n",
    "      numero = int(input(\"Introduce un numero cabeza albondiga\"))\n",
    "      match op: \n",
    "         case \"1\":\n",
    "            if numero <= 1:\n",
    "               es_primo = False\n",
    "            else:\n",
    "               es_primo = True\n",
    "               for i in range(2, numero):\n",
    "                  if numero % i == 0:\n",
    "                        es_primo = False\n",
    "                        break\n",
    "\n",
    "            if es_primo:\n",
    "               print(f\"{numero} es un número primo.\")\n",
    "            else:\n",
    "               print(f\"{numero} no es un número primo.\")\n",
    "         case \"2\":\n",
    "            fibonacci = [] \n",
    "            a , b = 0 , 1 \n",
    "            for i in range(numero+1):\n",
    "               fibonacci.append(a)\n",
    "               a , b = b , a + b  \n",
    "            if numero in fibonacci:\n",
    "               print(f\"{num} forma part de la sèrie de Fibonacci\")\n",
    "            else: \n",
    "               print(f\"{num} no  forma part de la sèrie de Fibonacci\")\n",
    "         \n",
    "         case \"3\":\n",
    "            if numero % 2 == 0:\n",
    "               print(f\"Es un numero parell\")\n",
    "            else:\n",
    "               print(\"No es parell\")\n",
    "            break\n",
    "         case \"4\":\n",
    "            print(f\"{numero} Temperatura en Graus son {(numero*9/5)+32} en Farenheit \")\n",
    "            break\n",
    "         case \"5\":\n",
    "            break\n",
    "         case _:\n",
    "            print(\"opcion no valida\")\n",
    "      \n",
    "    "
   ]
  },
  {
   "cell_type": "code",
   "execution_count": 67,
   "metadata": {},
   "outputs": [
    {
     "name": "stdout",
     "output_type": "stream",
     "text": [
      "*****\n",
      "****\n",
      "***\n",
      "**\n",
      "*\n"
     ]
    }
   ],
   "source": [
    "\n",
    "    "
   ]
  },
  {
   "cell_type": "code",
   "execution_count": 69,
   "metadata": {},
   "outputs": [
    {
     "name": "stdout",
     "output_type": "stream",
     "text": [
      "*\n",
      "**\n",
      "***\n",
      "****\n",
      "*****\n"
     ]
    }
   ],
   "source": []
  }
 ],
 "metadata": {
  "kernelspec": {
   "display_name": "base",
   "language": "python",
   "name": "python3"
  },
  "language_info": {
   "codemirror_mode": {
    "name": "ipython",
    "version": 3
   },
   "file_extension": ".py",
   "mimetype": "text/x-python",
   "name": "python",
   "nbconvert_exporter": "python",
   "pygments_lexer": "ipython3",
   "version": "3.11.4"
  }
 },
 "nbformat": 4,
 "nbformat_minor": 2
}
