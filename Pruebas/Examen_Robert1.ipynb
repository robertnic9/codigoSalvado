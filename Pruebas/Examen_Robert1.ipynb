{
 "cells": [
  {
   "cell_type": "code",
   "execution_count": 8,
   "metadata": {},
   "outputs": [
    {
     "name": "stdout",
     "output_type": "stream",
     "text": [
      "Tu salario es 1000000000 i has pagado 449990300.0 i te ha quedado 550009700.0\n"
     ]
    }
   ],
   "source": [
    "#1\n",
    "salario = int(input(\"Introduce tu salario anual\"))\n",
    "if salario <= 10000:\n",
    "    impuesto = salario * 0.02\n",
    "elif salario <= 18000:\n",
    "    impuesto = 200 + (salario - 10000) * 0.1\n",
    "elif salario <= 26000:\n",
    "    impuesto = 1000 + (salario - 18000) * 0.25\n",
    "elif salario <= 36000:\n",
    "    impuesto = 3000 + (salario - 26000) * 0.35\n",
    "else:\n",
    "    impuesto = 6500 + (salario - 36000) * 0.45\n",
    "\n",
    "print(f\"Tu salario es {salario} y has pagado {impuesto} y te ha quedado {salario-impuesto}\")"
   ]
  },
  {
   "cell_type": "code",
   "execution_count": 5,
   "metadata": {},
   "outputs": [],
   "source": [
    "# 2 \n",
    "baix_alcohol= {}\n",
    "moderat_alcohol = {}\n",
    "alt_alcohol = {}\n",
    "\n",
    "begud_alc = input(\"Introduce tu bebida alcholica\")\n",
    "\n",
    "if begud_alc in baix_alcohol or moderat_alcohol or alt_alcohol:\n",
    "    if begud_alc in baix_alcohol:\n",
    "        print(f\"La teva {begud_alc} te un baix contingut de alchol\")\n",
    "    elif begud_alc in moderat_alcohol:\n",
    "        print(f\"La teva {begud_alc} te un moderat contingut de alchol \")\n",
    "    else:\n",
    "        print(f\"La teva {begud_alc} te un alt contingut de alchol\")\n",
    "else:\n",
    "    percen = float(input(\"Introduce el porcentage de alchool\"))\n",
    "    if percen < 7:\n",
    "        baix_alcohol[begud_alc]=percen\n",
    "    elif percen < 20:\n",
    "        moderat_alcohol[begud_alc]=percen\n",
    "    else:\n",
    "        alt_alcohol[begud_alc]=percen\n",
    "\n"
   ]
  },
  {
   "cell_type": "code",
   "execution_count": 7,
   "metadata": {},
   "outputs": [
    {
     "ename": "KeyboardInterrupt",
     "evalue": "",
     "output_type": "error",
     "traceback": [
      "\u001b[1;31m---------------------------------------------------------------------------\u001b[0m",
      "\u001b[1;31mKeyboardInterrupt\u001b[0m                         Traceback (most recent call last)",
      "\u001b[1;32mc:\\Users\\Sebi\\OneDrive\\Escritorio\\Programacion\\Python\\Examen_Robert1.ipynb Celda 3\u001b[0m line \u001b[0;36m1\n\u001b[0;32m     <a href='vscode-notebook-cell:/c%3A/Users/Sebi/OneDrive/Escritorio/Programacion/Python/Examen_Robert1.ipynb#W2sZmlsZQ%3D%3D?line=9'>10</a>\u001b[0m string \u001b[39m=\u001b[39m \u001b[39m'\u001b[39m\u001b[39m'\u001b[39m\n\u001b[0;32m     <a href='vscode-notebook-cell:/c%3A/Users/Sebi/OneDrive/Escritorio/Programacion/Python/Examen_Robert1.ipynb#W2sZmlsZQ%3D%3D?line=10'>11</a>\u001b[0m \u001b[39mwhile\u001b[39;00m k \u001b[39m<\u001b[39m\u001b[39m=\u001b[39m i:\n\u001b[1;32m---> <a href='vscode-notebook-cell:/c%3A/Users/Sebi/OneDrive/Escritorio/Programacion/Python/Examen_Robert1.ipynb#W2sZmlsZQ%3D%3D?line=11'>12</a>\u001b[0m     string \u001b[39m=\u001b[39m string \u001b[39m+\u001b[39m \u001b[39mf\u001b[39m\u001b[39m'\u001b[39m\u001b[39m{\u001b[39;00mi\u001b[39m}\u001b[39;00m\u001b[39m'\u001b[39m\u001b[39m*\u001b[39mk \u001b[39m+\u001b[39m \u001b[39m'\u001b[39m\u001b[39m - \u001b[39m\u001b[39m'\u001b[39m\n\u001b[0;32m     <a href='vscode-notebook-cell:/c%3A/Users/Sebi/OneDrive/Escritorio/Programacion/Python/Examen_Robert1.ipynb#W2sZmlsZQ%3D%3D?line=12'>13</a>\u001b[0m \u001b[39mprint\u001b[39m(string)\n\u001b[0;32m     <a href='vscode-notebook-cell:/c%3A/Users/Sebi/OneDrive/Escritorio/Programacion/Python/Examen_Robert1.ipynb#W2sZmlsZQ%3D%3D?line=13'>14</a>\u001b[0m string \u001b[39m=\u001b[39m \u001b[39m'\u001b[39m\u001b[39m* \u001b[39m\u001b[39m'\u001b[39m\u001b[39m*\u001b[39m(n\u001b[39m+\u001b[39m\u001b[39m1\u001b[39m \u001b[39m-\u001b[39mi)\n",
      "\u001b[1;31mKeyboardInterrupt\u001b[0m: "
     ]
    }
   ],
   "source": [
    "n = 4\n",
    "\n",
    "for i in range(1,n*2-1):\n",
    "    \n",
    "    if i > n:\n",
    "        j = 2*n - i \n",
    "    \n",
    "    else:\n",
    "        k = 1\n",
    "        string = ''\n",
    "        while k <= i:\n",
    "            string = string + f'{i}'*k + ' - '\n",
    "        print(string)\n",
    "        string = '* '*(n+1 -i)\n",
    "        print(string)\n",
    "\n",
    "\n",
    "    \n",
    "\n",
    "   \n",
    "        \n"
   ]
  },
  {
   "cell_type": "code",
   "execution_count": 19,
   "metadata": {},
   "outputs": [
    {
     "name": "stdout",
     "output_type": "stream",
     "text": [
      "2 es un multiplo de 2\n",
      "4 es un multiplo de 2\n",
      "5 es un multiplo de 5\n"
     ]
    }
   ],
   "source": [
    "#6\n",
    "n= int(input(\"Introduce un numero\"))\n",
    "cont=1\n",
    "while cont <= n:\n",
    "    if cont % 5 == 0 and cont % 2 == 0:\n",
    "        print(f\"{cont} es un multiplo de 2 y de 5\") \n",
    "    elif cont % 5 == 0:\n",
    "        print(f\"{cont} es un multiplo de 5\")\n",
    "    elif cont % 2 == 0:\n",
    "        print(f\"{cont} es un multiplo de 2\")\n",
    "    cont+=1\n",
    "\n",
    "    "
   ]
  },
  {
   "cell_type": "code",
   "execution_count": 33,
   "metadata": {},
   "outputs": [
    {
     "name": "stdout",
     "output_type": "stream",
     "text": [
      "[1, 2, 3, 5]\n",
      "[2, 3, 5, 7]\n",
      "[1, 2, 3, 5, 2, 3, 5, 7]\n",
      "[2, 3, 5]\n"
     ]
    }
   ],
   "source": [
    "list_1 = [1,1,1,2,5,5,8,2,3,5,3]\n",
    "list_2 = [8,3,2,5,6,2,3,7,7,7,7,5,4,3]\n",
    "\n",
    "replist1 = []\n",
    "replist2= []\n",
    "replist3= []\n",
    "\n",
    "for i in list_1:\n",
    "    if list_1.count(i) >= 2:\n",
    "        replist1.append(i)\n",
    "    else:\n",
    "        continue\n",
    "for j in (list_2):\n",
    "    if list_2.count(j) >= 2:\n",
    "        replist2.append(j)\n",
    "    else:\n",
    "        continue\n",
    "\n",
    "list3= replist1 + replist2\n",
    "setlist3 = set(list3)\n",
    "list3 = list(setlist3)\n",
    "\n",
    "print(replist1)\n",
    "print(replist2)\n",
    "print(list3)\n",
    "print(replist3)\n"
   ]
  },
  {
   "cell_type": "code",
   "execution_count": 3,
   "metadata": {},
   "outputs": [
    {
     "name": "stdout",
     "output_type": "stream",
     "text": [
      " 1)  Comprovar si un nombre és múltiple de 5 o de 2\n",
      "    2) Comprovar si un nombre forma part de la sèrie de Fibonacci.\n",
      "    3) Comprovar si un nombre és senar\n",
      "    4)Transformar una temperatura de graus Celsius en graus Fahrenheit \n",
      "    5) Sortir del programa\n",
      "     \n",
      "Has selecionado salir del programa\n"
     ]
    }
   ],
   "source": [
    "while True: \n",
    "    print(''' 1)  Comprovar si un nombre és múltiple de 5 o de 2\n",
    "    2) Comprovar si un nombre forma part de la sèrie de Fibonacci.\n",
    "    3) Comprovar si un nombre és senar\n",
    "    4)Transformar una temperatura de graus Celsius en graus Fahrenheit \n",
    "    5) Sortir del programa\n",
    "     ''')\n",
    "    num = int(input(\"Introduce un numero \"))\n",
    "    n = input(\"Elige una opción: \")\n",
    "    \n",
    "    match n:\n",
    "        case \"1\":\n",
    "            if num % 5 == 0 and num % 2 == 0:\n",
    "                print(f\"{num} es un multiplo de 2 y de 5\")\n",
    "                \n",
    "            elif connumt % 5 == 0:\n",
    "                print(f\"{num} es un multiplo de 5\")\n",
    "                \n",
    "            elif num % 2 == 0:\n",
    "                print(f\"{num} es un multiplo de 2\")\n",
    "                \n",
    "        case \"2\":\n",
    "            Fibonacci=[]\n",
    "            cont=0\n",
    "            a, b = 0, 1\n",
    "            for i in range(num+1):\n",
    "                a, b = b, b + a \n",
    "            if num in Fibonacci:\n",
    "                print(f\"{num} forma parte de la sucessio de Fibonacci\")\n",
    "                \n",
    "            else:\n",
    "                print(f\"{num} no forma parte de la sucessio de Fibonacci\")\n",
    "                \n",
    "        case \"3\":\n",
    "            if num % 2 != 0:\n",
    "                print(f\"{num} es senar\")\n",
    "            else:\n",
    "                print(f\"{num} no es senar\")\n",
    "        case \"4\": \n",
    "            Fahrenheit= num*(9/5)+32\n",
    "            print(\"La tempera en Fahrenheit es\",Fahrenheit)\n",
    "            \n",
    "        case \"5\":\n",
    "            print(\"Has selecionado salir del programa\")\n",
    "            break\n",
    "    "
   ]
  },
  {
   "cell_type": "code",
   "execution_count": 6,
   "metadata": {},
   "outputs": [
    {
     "name": "stdout",
     "output_type": "stream",
     "text": [
      "La lista es tridimensional.\n"
     ]
    }
   ],
   "source": [
    "n = [1, 2, [2, 3, [4, 5]]]\n",
    "\n",
    "dimen = 0\n",
    "for j in n:\n",
    "    if isinstance(j, list):\n",
    "        dimen += 1\n",
    "        for k in j:\n",
    "            if isinstance(k, list):\n",
    "                dimen += 1\n",
    "\n",
    "if dimen == 0:\n",
    "    print(\"La lista es unidimensional.\")\n",
    "elif dimen == 1:\n",
    "    print(\"La lista es bidimensional.\")\n",
    "elif dimen == 2:\n",
    "    print(\"La lista es tridimensional.\")\n",
    "else:\n",
    "    print(f\"La lista es {dimen} dimensional.\")\n",
    "\n",
    "\n",
    "         \n"
   ]
  }
 ],
 "metadata": {
  "kernelspec": {
   "display_name": "base",
   "language": "python",
   "name": "python3"
  },
  "language_info": {
   "codemirror_mode": {
    "name": "ipython",
    "version": 3
   },
   "file_extension": ".py",
   "mimetype": "text/x-python",
   "name": "python",
   "nbconvert_exporter": "python",
   "pygments_lexer": "ipython3",
   "version": "3.11.4"
  }
 },
 "nbformat": 4,
 "nbformat_minor": 2
}
