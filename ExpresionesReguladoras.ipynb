{
 "cells": [
  {
   "cell_type": "code",
   "execution_count": 4,
   "metadata": {},
   "outputs": [
    {
     "name": "stdout",
     "output_type": "stream",
     "text": [
      "<re.Match object; span=(0, 19), match='manolo234@gmail.com'>\n"
     ]
    }
   ],
   "source": [
    "import re \n",
    "\n",
    "email =\"manolo234@gmail.com\"\n",
    "verify = re.compile(r\"^[a-zA-Z0-9._%+-]+@[a-zA-Z0-9]+\\.[a-zA-Z]{2,}\\b$\")\n",
    "print(re.match(verify, email))"
   ]
  },
  {
   "cell_type": "code",
   "execution_count": 15,
   "metadata": {},
   "outputs": [
    {
     "name": "stdout",
     "output_type": "stream",
     "text": [
      "['2342', '2001']\n"
     ]
    }
   ],
   "source": [
    "#Ej2 Tema 2\n",
    "import re\n",
    "frase = \"En la calle 2342 mataron a 2001 gusanos\"\n",
    "print(re.findall(r\"\\d+\",frase))"
   ]
  },
  {
   "cell_type": "code",
   "execution_count": 115,
   "metadata": {},
   "outputs": [
    {
     "name": "stdout",
     "output_type": "stream",
     "text": [
      "['07486']\n"
     ]
    }
   ],
   "source": [
    "#Ej3  Tena 2\n",
    "import re\n",
    "cod = \"mi codigo postal es 07486\"\n",
    "print(re.findall(r\"\\b\\d{5}\\b\",cod))"
   ]
  },
  {
   "cell_type": "code",
   "execution_count": 13,
   "metadata": {},
   "outputs": [
    {
     "name": "stdout",
     "output_type": "stream",
     "text": [
      "['https']\n"
     ]
    }
   ],
   "source": [
    "#Ej4 verificar URL\n",
    "import re \n",
    "url = \"https://www.instagram.com\"\n",
    "print(re.findall(r\"^http[s]\",url))"
   ]
  },
  {
   "cell_type": "code",
   "execution_count": 63,
   "metadata": {},
   "outputs": [
    {
     "name": "stdout",
     "output_type": "stream",
     "text": [
      "['05/06/2004']\n"
     ]
    }
   ],
   "source": [
    "#Ej5 \n",
    "fecha=\" 05/06/2004 sddsd\"\n",
    "print(re.findall(r\"\\b\\d{2}[/]\\d{2}[/]\\d{4}\\b\",fecha))"
   ]
  },
  {
   "cell_type": "code",
   "execution_count": 7,
   "metadata": {},
   "outputs": [
    {
     "name": "stdout",
     "output_type": "stream",
     "text": [
      "<re.Match object; span=(0, 5), match='LOBO@'>\n"
     ]
    }
   ],
   "source": [
    "#Ej6\n",
    "import re\n",
    "email= \"LOBO@\"\n",
    "print(re.search(r\"^[a-zA-Z0-9._%+-]+@$\",email))"
   ]
  },
  {
   "cell_type": "code",
   "execution_count": null,
   "metadata": {},
   "outputs": [],
   "source": [
    "#Ej 7 Quitar etiquetas HTML\n",
    "import re \n",
    "url = \"https://www.instagram.com\"\n"
   ]
  },
  {
   "cell_type": "code",
   "execution_count": 127,
   "metadata": {},
   "outputs": [
    {
     "name": "stdout",
     "output_type": "stream",
     "text": [
      "['casas', 'manol', 'morir']\n"
     ]
    }
   ],
   "source": [
    "#Ej 8 \n",
    "import re \n",
    "macaco = \"la casas manol m me morir\"\n",
    "print(re.findall(r\"(\\b\\w{5}\\b)\",macaco))"
   ]
  },
  {
   "cell_type": "code",
   "execution_count": 6,
   "metadata": {},
   "outputs": [
    {
     "name": "stdout",
     "output_type": "stream",
     "text": [
      "<re.Match object; span=(0, 29), match='#Esto es un comentario python'>\n"
     ]
    }
   ],
   "source": [
    "#Ej 9\n",
    "import re \n",
    "comentario = \"#Esto es un comentario python\"\n",
    "print(re.search(r\"#.*\", comentario))"
   ]
  },
  {
   "cell_type": "code",
   "execution_count": 133,
   "metadata": {},
   "outputs": [
    {
     "name": "stdout",
     "output_type": "stream",
     "text": [
      "<re.Match object; span=(0, 16), match='+34 642 47 18 80'>\n"
     ]
    }
   ],
   "source": [
    "#Ej 10\n",
    "import re \n",
    "telf1 = \"+34 642 47 18 80\"\n",
    "telf2 = \"+34642471880\"\n",
    "\n",
    "telf = re.compile(r\"(^[+]\\d{11} |^[+]\\d{2}.\\d{3}.\\d{2}.\\d{2}.\\d{2})\")\n",
    "print(re.match(telf, telf1))"
   ]
  },
  {
   "cell_type": "code",
   "execution_count": 19,
   "metadata": {},
   "outputs": [
    {
     "name": "stdout",
     "output_type": "stream",
     "text": [
      "[]\n"
     ]
    }
   ],
   "source": [
    "#Ej 11\n",
    "frase = \"la puta de tu mami putilla es una paula\"\n",
    "print(re.findall(r\"^[p][A-Za-z]*$\", frase))"
   ]
  },
  {
   "cell_type": "code",
   "execution_count": null,
   "metadata": {},
   "outputs": [],
   "source": [
    "#Ej 12\n",
    "texto = \"\"\n",
    "print()"
   ]
  },
  {
   "cell_type": "code",
   "execution_count": 1,
   "metadata": {},
   "outputs": [
    {
     "ename": "NameError",
     "evalue": "name 're' is not defined",
     "output_type": "error",
     "traceback": [
      "\u001b[1;31m---------------------------------------------------------------------------\u001b[0m",
      "\u001b[1;31mNameError\u001b[0m                                 Traceback (most recent call last)",
      "Cell \u001b[1;32mIn[1], line 2\u001b[0m\n\u001b[0;32m      1\u001b[0m contra\u001b[38;5;241m=\u001b[39m\u001b[38;5;124m\"\u001b[39m\u001b[38;5;124mArmando20@\u001b[39m\u001b[38;5;124m\"\u001b[39m\n\u001b[1;32m----> 2\u001b[0m vefcont \u001b[38;5;241m=\u001b[39m \u001b[43mre\u001b[49m\u001b[38;5;241m.\u001b[39mcompile(\u001b[38;5;124mr\u001b[39m\u001b[38;5;124m\"\u001b[39m\u001b[38;5;124m([A-Z]+\u001b[39m\u001b[38;5;124m\\\u001b[39m\u001b[38;5;124md+\u001b[39m\u001b[38;5;124m\\\u001b[39m\u001b[38;5;124mW+\u001b[39m\u001b[38;5;124m\\\u001b[39m\u001b[38;5;124mw)\u001b[39m\u001b[38;5;124m{\u001b[39m\u001b[38;5;124m8,12}\u001b[39m\u001b[38;5;124m\"\u001b[39m)\n\u001b[0;32m      3\u001b[0m \u001b[38;5;28mprint\u001b[39m(re\u001b[38;5;241m.\u001b[39mmatch(vefcont,contra))\n",
      "\u001b[1;31mNameError\u001b[0m: name 're' is not defined"
     ]
    }
   ],
   "source": [
    "contra=\"Armando20@\"\n",
    "vefcont = re.compile(r\"([A-Z]+\\d+\\W+\\w){8,12}\")\n",
    "print(re.match(vefcont,contra))"
   ]
  }
 ],
 "metadata": {
  "kernelspec": {
   "display_name": "Python 3",
   "language": "python",
   "name": "python3"
  },
  "language_info": {
   "codemirror_mode": {
    "name": "ipython",
    "version": 3
   },
   "file_extension": ".py",
   "mimetype": "text/x-python",
   "name": "python",
   "nbconvert_exporter": "python",
   "pygments_lexer": "ipython3",
   "version": "3.12.1"
  }
 },
 "nbformat": 4,
 "nbformat_minor": 2
}
