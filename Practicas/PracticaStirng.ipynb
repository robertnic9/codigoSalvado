{
 "cells": [
  {
   "cell_type": "code",
   "execution_count": 41,
   "metadata": {},
   "outputs": [
    {
     "name": "stdout",
     "output_type": "stream",
     "text": [
      "71\n",
      "siruam mauqilA .tile gnicsipida rutetcesnoc ,tema tis rolod muspi meroL\n",
      "Lorem ipsum dolor sit amet, consectetur adipiscing elit. Aliquam maurisHola que tal Pascual\n",
      "Lorem ipsum dolor siT ameT, consecTeTur adipiscing eliT. Aliquam mauris\n",
      "['Lorem', 'ipsum', 'dolor', 'sit', 'amet,', 'consectetur', 'adipiscing', 'elit.', 'Aliquam', 'mauris']\n",
      "lorem ipsum dolor sit amet, consectetur adipiscing elit. aliquam mauris\n",
      "LOREM IPSUM DOLOR SIT AMET, CONSECTETUR ADIPISCING ELIT. ALIQUAM MAURIS\n",
      "6 22\n",
      "7 20\n",
      "True\n",
      "Loremipsumdolorsitamet,consecteturadipiscingelit.Aliquammauris\n",
      "6\n",
      "False\n"
     ]
    }
   ],
   "source": [
    "cadena1=\"Lorem ipsum dolor sit amet, consectetur adipiscing elit. Aliquam mauris\"\n",
    "cadena2=\"Hola que tal Pascual\"\n",
    "palindrom= \"aba\"\n",
    "print(len(cadena1))\n",
    "print(cadena1[::-1])\n",
    "print(cadena1+cadena2)\n",
    "print(cadena1.replace(\"t\",\"T\"))\n",
    "print(cadena1.split())\n",
    "print(cadena1.lower())\n",
    "print(cadena1.upper())\n",
    "print(cadena1.find(\"i\"),cadena1.find(\"a\"))\n",
    "print(cadena1.find(\"p\"),cadena1.find(\"t\"))\n",
    "print( palindrom== palindrom[::-1])\n",
    "print(cadena1.replace(\" \",\"\"))\n",
    "print(cadena1.find(\"ip\"))\n",
    "print(cadena1.isdigit())\n"
   ]
  },
  {
   "cell_type": "code",
   "execution_count": 47,
   "metadata": {},
   "outputs": [
    {
     "name": "stdout",
     "output_type": "stream",
     "text": [
      "{'nom': 'trobert', 'número': 546464, 'ciutat': 'forme', 'edat': 17, 'fruta': 'manzana', 'color': 'azul', 'numero': 42, 'animal': 'pingüino'}\n",
      "dict_keys(['nom', 'número', 'ciutat', 'edat'])\n",
      "dict_values(['trobert', 546464, 'forme', 17])\n"
     ]
    }
   ],
   "source": [
    "\n",
    "persona = {\"nom\":\"trobert\", \"número\":546464,\"ciutat\":\"forme\",\"edat\" : 17}\n",
    "diccionario_random = {\n",
    "    'fruta': 'manzana',\n",
    "    'color': 'azul',\n",
    "    'numero': 42,\n",
    "    'animal': 'pingüino'\n",
    "}\n",
    "dicion2={**persona,**diccionario_random}\n",
    "print(dicion2)\n",
    "print(persona.keys())\n",
    "print(persona.values())\n"
   ]
  },
  {
   "cell_type": "code",
   "execution_count": 9,
   "metadata": {},
   "outputs": [
    {
     "name": "stdout",
     "output_type": "stream",
     "text": [
      "1-\n",
      "* * * * * \n",
      "2-22-\n",
      "****\n",
      "2-22-\n",
      "3-33-333-\n",
      "***\n",
      "3-33-333-\n",
      "4-44-444-4444-\n",
      "**\n",
      "4-44-444-4444-\n",
      "5-55-555-5555-55555-\n",
      "**\n",
      "5-55-555-5555-55555-\n"
     ]
    }
   ],
   "source": [
    "num=5\n",
    "for i in range(1,num*2+1):\n",
    "    string = str(i)+ \"-\"\n",
    "    if i == 1:\n",
    "        print(string,end=\"\")\n",
    "        print()\n",
    "        print(\"* \"*num)\n",
    "    elif i <= num:\n",
    "        for j in range(1,i+1):\n",
    "            pat=str(i)*j+\"-\"\n",
    "            print(pat,end=\"\")\n",
    "        print()\n",
    "        if i == num:\n",
    "            print(\"*\"*(num+2-i))\n",
    "        else:\n",
    "            print(\"*\"*(num+1-i))\n",
    "        for j in range(1,i+1):\n",
    "            pat=str(i)*j+\"-\"\n",
    "            print(pat,end=\"\")\n",
    "        print()\n",
    "   "
   ]
  }
 ],
 "metadata": {
  "kernelspec": {
   "display_name": "Python 3",
   "language": "python",
   "name": "python3"
  },
  "language_info": {
   "codemirror_mode": {
    "name": "ipython",
    "version": 3
   },
   "file_extension": ".py",
   "mimetype": "text/x-python",
   "name": "python",
   "nbconvert_exporter": "python",
   "pygments_lexer": "ipython3",
   "version": "3.12.1"
  }
 },
 "nbformat": 4,
 "nbformat_minor": 2
}
