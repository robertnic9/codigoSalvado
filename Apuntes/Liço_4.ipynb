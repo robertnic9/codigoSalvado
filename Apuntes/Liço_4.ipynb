{
 "cells": [
  {
   "cell_type": "code",
   "execution_count": 51,
   "id": "6bfef479-2b77-44c2-802b-87e0a0609174",
   "metadata": {
    "tags": []
   },
   "outputs": [],
   "source": [
    "lista_1= [1,2,3,4,[1,2],\"hola\"]\n",
    "lista_2=[\"a\",\"b\",\"c\",3,4,\"hola\"]\n",
    "lista_3=[1,2,3,4,5,7,8,10,11,14,1,2,3]\n"
   ]
  },
  {
   "cell_type": "code",
   "execution_count": 52,
   "id": "2ad93525-f8df-4cfa-b38d-9de4d22bb46c",
   "metadata": {
    "tags": []
   },
   "outputs": [
    {
     "ename": "ValueError",
     "evalue": "list.remove(x): x not in list",
     "output_type": "error",
     "traceback": [
      "\u001b[1;31m---------------------------------------------------------------------------\u001b[0m",
      "\u001b[1;31mValueError\u001b[0m                                Traceback (most recent call last)",
      "Cell \u001b[1;32mIn[52], line 1\u001b[0m\n\u001b[1;32m----> 1\u001b[0m lista_1\u001b[38;5;241m.\u001b[39mremove([\u001b[38;5;241m1\u001b[39m,\u001b[38;5;241m2\u001b[39m,\u001b[38;5;241m3\u001b[39m])\n\u001b[0;32m      2\u001b[0m \u001b[38;5;28mprint\u001b[39m(lista_1)\n",
      "\u001b[1;31mValueError\u001b[0m: list.remove(x): x not in list"
     ]
    }
   ],
   "source": [
    "lista_1.remove([1,2,3])\n",
    "print(lista_1)\n"
   ]
  },
  {
   "cell_type": "code",
   "execution_count": 53,
   "id": "ce13e6c2-4033-4e88-a37c-48cd40210a48",
   "metadata": {
    "tags": []
   },
   "outputs": [
    {
     "name": "stdout",
     "output_type": "stream",
     "text": [
      "[1, 2, 3, 4, [1, 2], 'hola', ['a', 'b', 'c', 3, 4, 'hola']]\n"
     ]
    }
   ],
   "source": [
    "lista_1.append(lista_2)\n",
    "print(lista_1)"
   ]
  },
  {
   "cell_type": "code",
   "execution_count": 54,
   "id": "7541d3bc-11e8-4a66-af8c-31a7cf8d412c",
   "metadata": {
    "tags": []
   },
   "outputs": [
    {
     "name": "stdout",
     "output_type": "stream",
     "text": [
      "[14, 11, 10, 8, 7, 5, 4, 3, 3, 2, 2, 1, 1]\n"
     ]
    }
   ],
   "source": [
    "lista_3.sort(reverse=True)\n",
    "print(lista_3)"
   ]
  },
  {
   "cell_type": "code",
   "execution_count": 55,
   "id": "b26b195d-3db9-43d0-88cb-3edee6234655",
   "metadata": {
    "tags": []
   },
   "outputs": [
    {
     "data": {
      "text/plain": [
       "2"
      ]
     },
     "execution_count": 55,
     "metadata": {},
     "output_type": "execute_result"
    }
   ],
   "source": [
    "lista_3.count(3)"
   ]
  },
  {
   "cell_type": "code",
   "execution_count": 56,
   "id": "824c4ffb-5b50-4af7-85f3-b574fc0de801",
   "metadata": {
    "tags": []
   },
   "outputs": [
    {
     "name": "stdout",
     "output_type": "stream",
     "text": [
      "[1, 2, 3, 4, 5, 7, 8, 10, 11, 14]\n"
     ]
    }
   ],
   "source": [
    "conjuntsense=set(lista_3)\n",
    "listasinduplicats=list(conjuntsense)\n",
    "print(listasinduplicats)"
   ]
  },
  {
   "cell_type": "code",
   "execution_count": 57,
   "id": "c43b877b-924f-4a4f-b9da-a34d5676d03b",
   "metadata": {
    "tags": []
   },
   "outputs": [
    {
     "name": "stdout",
     "output_type": "stream",
     "text": [
      "1 14\n"
     ]
    }
   ],
   "source": [
    "print(min(lista_3), max(lista_3))"
   ]
  },
  {
   "cell_type": "code",
   "execution_count": 58,
   "id": "4cb737f9-ee52-44bf-8483-53585d07037e",
   "metadata": {
    "tags": []
   },
   "outputs": [
    {
     "name": "stdout",
     "output_type": "stream",
     "text": [
      "[14, 11, 10, 8, 7, 5, 4, 3, 3, 2, 2, 1, 1, 14, 11, 10, 8, 7, 5, 4, 3, 3, 2, 2, 1, 1]\n"
     ]
    }
   ],
   "source": [
    "lista_5= lista_3 + lista_3\n",
    "print(lista_5)"
   ]
  },
  {
   "cell_type": "code",
   "execution_count": 59,
   "id": "3bbef9ed-de96-423d-9411-cb27dfe12a0a",
   "metadata": {
    "tags": []
   },
   "outputs": [
    {
     "name": "stdout",
     "output_type": "stream",
     "text": [
      "62092800\n"
     ]
    }
   ],
   "source": [
    "import math \n",
    "print(math.prod(lista_3))"
   ]
  },
  {
   "cell_type": "code",
   "execution_count": 60,
   "id": "ecad538d-0c13-4ff4-971b-722dbdd25ec8",
   "metadata": {
    "tags": []
   },
   "outputs": [
    {
     "name": "stdout",
     "output_type": "stream",
     "text": [
      "[14, 11, 10, 8, 7, 5, 4, 3, 3, 2, 2, 1, 1]\n",
      "5.461538461538462\n"
     ]
    }
   ],
   "source": [
    "print(lista_3)\n",
    "suma=sum(lista_3)\n",
    "n_elements=len(lista_3)\n",
    "mitjana= suma/n_elements\n",
    "print(mitjana)"
   ]
  },
  {
   "cell_type": "code",
   "execution_count": 61,
   "id": "ee91c2f1-6e03-4bee-aac2-7bb36ac8c7c5",
   "metadata": {
    "tags": []
   },
   "outputs": [
    {
     "name": "stdout",
     "output_type": "stream",
     "text": [
      "[1, 1, 2, 2, 3, 3, 4, 5, 7, 8, 10, 11, 14]\n"
     ]
    }
   ],
   "source": [
    "lista_3.sort(reverse=False)\n",
    "print(lista_3)"
   ]
  },
  {
   "cell_type": "code",
   "execution_count": 62,
   "id": "a7952162-1c77-4f75-82e8-10ba2c1a5a5d",
   "metadata": {
    "tags": []
   },
   "outputs": [
    {
     "name": "stdout",
     "output_type": "stream",
     "text": [
      "[1, 1, 1, 2, 2, 3, 3, 3, 4, 5, 5, 6, 7, 7, 8, 9, 10, 10, 11, 14]\n"
     ]
    }
   ],
   "source": [
    "lista_3=[1,2,3,4,5,7,8,10,11,14,1,2,3]\n",
    "\n",
    "lista_3.extend([1,3,5,6,7,9,10])\n",
    "lista_3.sort(reverse=False)\n",
    "\n",
    "print(lista_3)"
   ]
  },
  {
   "cell_type": "code",
   "execution_count": 63,
   "id": "1934794b-b78c-4912-ab64-47a28ae23f7e",
   "metadata": {
    "tags": []
   },
   "outputs": [
    {
     "name": "stdout",
     "output_type": "stream",
     "text": [
      "[1, 2, 3, 4, [1, 2]]\n"
     ]
    }
   ],
   "source": [
    "lista_1=[1,2,3,4,[1,2],\"hola\"]\n",
    "lista_1.remove(\"hola\")\n",
    "print(lista_1)"
   ]
  },
  {
   "cell_type": "code",
   "execution_count": 64,
   "id": "fde40aa2-8400-43c2-b0f9-98f9103b895b",
   "metadata": {
    "tags": []
   },
   "outputs": [
    {
     "name": "stdout",
     "output_type": "stream",
     "text": [
      "[1, 2, 3, 4, [1, 2], 1, 6, 5]\n"
     ]
    }
   ],
   "source": [
    "lista_1.extend([1,6,5])\n",
    "print(lista_1)"
   ]
  },
  {
   "cell_type": "code",
   "execution_count": 50,
   "id": "81ba9097-3bdc-4454-a466-1dfb1548c7cf",
   "metadata": {
    "tags": []
   },
   "outputs": [
    {
     "name": "stdout",
     "output_type": "stream",
     "text": [
      "[1, 2, 3, 4, 5, 6, 7, [1, 2, 3]]\n"
     ]
    }
   ],
   "source": [
    "lista_6=[1,2,3,4,5,6,7]\n",
    "lista_7=[1,2,3]\n",
    "lista_6.append(lista_7)\n",
    "print(lista_6)"
   ]
  },
  {
   "cell_type": "code",
   "execution_count": null,
   "id": "c87724f5-7f12-4d65-8f3b-d17607b57f76",
   "metadata": {},
   "outputs": [],
   "source": []
  }
 ],
 "metadata": {
  "kernelspec": {
   "display_name": "Python 3 (ipykernel)",
   "language": "python",
   "name": "python3"
  },
  "language_info": {
   "codemirror_mode": {
    "name": "ipython",
    "version": 3
   },
   "file_extension": ".py",
   "mimetype": "text/x-python",
   "name": "python",
   "nbconvert_exporter": "python",
   "pygments_lexer": "ipython3",
   "version": "3.11.4"
  }
 },
 "nbformat": 4,
 "nbformat_minor": 5
}
