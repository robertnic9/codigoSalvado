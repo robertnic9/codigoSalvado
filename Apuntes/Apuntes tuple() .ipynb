{
 "cells": [
  {
   "cell_type": "markdown",
   "id": "8a850128-3238-42ae-a34e-6b4e33b5dacf",
   "metadata": {
    "jp-MarkdownHeadingCollapsed": true,
    "tags": []
   },
   "source": [
    "## La CLASSE TUPLE O TUPLA\n",
    "\n",
    "coleccion de elementos ordenada e inmutable = sirve para datos que no se quiera modificar por eso es diferente a las listas"
   ]
  },
  {
   "cell_type": "code",
   "execution_count": 1,
   "id": "904db6ab-4727-40fc-b4d9-b60ce4891bda",
   "metadata": {
    "tags": []
   },
   "outputs": [
    {
     "name": "stdout",
     "output_type": "stream",
     "text": [
      "[1, 2, 3]\n"
     ]
    }
   ],
   "source": [
    "tupla = tuple()\n",
    "tupla= ([1,2,3],\"hola\",4,5,(1,2))\n",
    "print(tupla[0])"
   ]
  },
  {
   "cell_type": "code",
   "execution_count": 2,
   "id": "a6a91cb9-dcef-4b92-9f02-70a367d704fa",
   "metadata": {
    "tags": []
   },
   "outputs": [
    {
     "name": "stdout",
     "output_type": "stream",
     "text": [
      "5\n"
     ]
    }
   ],
   "source": [
    "#podemos aplicarle funciones básicas del tipo lista como \n",
    "long_tupla=len(tupla) #num de elementos \n",
    "print(long_tupla)"
   ]
  },
  {
   "cell_type": "code",
   "execution_count": 4,
   "id": "78099f7c-10aa-42fe-9107-4f3b19bd3859",
   "metadata": {
    "tags": []
   },
   "outputs": [
    {
     "name": "stdout",
     "output_type": "stream",
     "text": [
      "el valor num maximo es 897\n",
      "1421\n"
     ]
    }
   ],
   "source": [
    "tupla2= (1,2,3,45,5,468,897)\n",
    "valor_max = max(tupla2) # min()\n",
    "print(\"el valor num maximo es\", valor_max)\n",
    "sumatupla=sum(tupla2)\n",
    "print(sumatupla)"
   ]
  },
  {
   "cell_type": "code",
   "execution_count": 5,
   "id": "31c1af76-6aba-4699-bdc1-f80b795f6c3c",
   "metadata": {
    "tags": []
   },
   "outputs": [
    {
     "name": "stdout",
     "output_type": "stream",
     "text": [
      "[1, 2, 3, 4, 5, 7, 8, 67, 346]\n",
      "(7, 4, 67, 3, 5, 346, 8, 1, 2)\n"
     ]
    }
   ],
   "source": [
    "#SI quiero obtener los elementos ordenados de la tupla utilizaré la función \n",
    "#sorted() No modifica la tupla pero me devuele una lista con los #elementos ordenados\n",
    "tupla_3=(7,4,67,3,5,346,8,1,2)\n",
    "lista_ord=sorted(tupla_3)\n",
    "print(lista_ord)\n",
    "print(tupla_3)"
   ]
  },
  {
   "cell_type": "code",
   "execution_count": 8,
   "id": "c1636fe9-0792-42f3-9b34-7af6c941f0f2",
   "metadata": {
    "tags": []
   },
   "outputs": [
    {
     "name": "stdout",
     "output_type": "stream",
     "text": [
      "el numero 5 de la tupla se situa en la posición 4\n"
     ]
    }
   ],
   "source": [
    "#Otras funciones de la tupla \n",
    "indice = tupla_3.index(5,8)\n",
    "print(\"el numero 5 de la tupla se situa en la posición\", indice)"
   ]
  },
  {
   "cell_type": "code",
   "execution_count": 9,
   "id": "a60f1981-3157-4643-a8d0-defb0b1e71ed",
   "metadata": {
    "tags": []
   },
   "outputs": [
    {
     "name": "stdout",
     "output_type": "stream",
     "text": [
      "1\n"
     ]
    }
   ],
   "source": [
    "#Para contar el número de apariciones de un elemento de la tupla \n",
    "contar = tupla_3.count(3)\n",
    "print(contar)"
   ]
  },
  {
   "cell_type": "code",
   "execution_count": 10,
   "id": "231e7df0-85e7-41f9-9053-d70698817a19",
   "metadata": {
    "tags": []
   },
   "outputs": [
    {
     "name": "stdout",
     "output_type": "stream",
     "text": [
      "(7, 4, 67, 3, 5, 346, 8, 1, 2)\n",
      "(7, 4, 67, 3, 5, 346, 8, 1, 2, 7, 4, 67, 3, 5, 346, 8, 1, 2)\n",
      "True\n",
      "False\n"
     ]
    }
   ],
   "source": [
    "tupla_4 = tupla_3*2 #por si queremos crear una nueva tupla con elementos \n",
    "#repetidos de otra tupla\n",
    "print(tupla_3)\n",
    "print(tupla_4)\n",
    "se_encuentra = 15 not in tupla_3 #sirve para que te diga si hay o no un elemento en al tupla \n",
    "print(se_encuentra)\n",
    "no_encuentra = 100 in tupla_3\n",
    "print(no_encuentra)\n"
   ]
  },
  {
   "cell_type": "markdown",
   "id": "2f859b63-86e3-44fc-ba47-d5b3a37edf1e",
   "metadata": {
    "jp-MarkdownHeadingCollapsed": true,
    "tags": []
   },
   "source": [
    "## DICCIONARIOS\n",
    "\n",
    "###### Conjunto de datos NO ordenados que se almacenan en pares clave:valor"
   ]
  },
  {
   "cell_type": "code",
   "execution_count": 12,
   "id": "5f3d94ea-3eb8-4db1-90c9-a6e4f4536dbf",
   "metadata": {
    "tags": []
   },
   "outputs": [
    {
     "name": "stdout",
     "output_type": "stream",
     "text": [
      "Madrid\n",
      "adios\n"
     ]
    }
   ],
   "source": [
    "diccion = {}\n",
    "diccion = dict()\n",
    "diccion= {1:\"Madrid\", 2:\"Paris\", \"hola\": \"adios\"}\n",
    "print(diccion[1])\n",
    "print(diccion[\"hola\"])"
   ]
  },
  {
   "cell_type": "code",
   "execution_count": 14,
   "id": "7789e100-d0ad-4f2e-8beb-67c45a0fbfbf",
   "metadata": {
    "tags": []
   },
   "outputs": [
    {
     "name": "stdout",
     "output_type": "stream",
     "text": [
      "dict_keys([1, 2, 'hola'])\n",
      "dict_values(['Madrid', 'Paris', 'adios'])\n",
      "dict_items([(1, 'Madrid'), (2, 'Paris'), ('hola', 'adios')])\n"
     ]
    }
   ],
   "source": [
    "lista_claves = diccion.keys() #Extraigo las claves del diccion \n",
    "lista_valores= diccion.values() #Extraigo una lista con valores del diccionario \n",
    "print(lista_claves)\n",
    "print(lista_valores)\n",
    "items = diccion.items() # devuela una  lista de tuplas de parejas  key:value\n",
    "#encapsuladas en una tupla (key,value)\n",
    "print(items)"
   ]
  },
  {
   "cell_type": "code",
   "execution_count": 15,
   "id": "1f21b806-a16b-4873-99fd-b03b699a7d35",
   "metadata": {
    "tags": []
   },
   "outputs": [
    {
     "name": "stdout",
     "output_type": "stream",
     "text": [
      "Madrid\n",
      "{2: 'Paris', 'hola': 'adios'}\n"
     ]
    }
   ],
   "source": [
    "#al diccionario tambien se le puede aplicar la duncioón pop()\n",
    "diccion= {1:\"Madrid\", 2:\"Paris\", \"hola\": \"adios\"}\n",
    "elem = diccion.pop(1)\n",
    "print(elem)\n",
    "print(diccion)"
   ]
  },
  {
   "cell_type": "code",
   "execution_count": 24,
   "id": "a8b4970c-01fd-4fc9-b090-5b6b56b193f9",
   "metadata": {
    "tags": []
   },
   "outputs": [
    {
     "name": "stdout",
     "output_type": "stream",
     "text": [
      "2277665932672\n",
      "2277665932672\n",
      "2277680371648\n",
      "{'nombre': 'maria', 'profession': 'maestra', 'altura': 1.7, 'color favorito': 'rosa'}\n",
      "{'nombre': 'maria', 'profession': 'maestra', 'altura': 1.7, 'color favorito': 'rosa'}\n"
     ]
    }
   ],
   "source": [
    "#para realizar una copia nueva e independiente de un diccionario existente \n",
    "#tenemos que : importar la liberia copy y de ahí realizar un deepcoppy \n",
    "diccion = {\"nombre\":\"maria\", \"profession\": \"maestra\", \"altura\" : 1.70}\n",
    "print(id(diccion))\n",
    "diccion2 = diccion # es como hacer un aceso directo \n",
    "print(id(diccion2))\n",
    "import copy \n",
    "diccion3 = copy.deepcopy(diccion)\n",
    "print(id(diccion3)) \n",
    "diccion2.update({\"color favorito\": \"rosa\"}) # update nos permite extender un dicionario \n",
    "#al fianl \n",
    "print(diccion2)\n",
    "print(diccion) # se ha modificado tambien dicionario 1 por el aceso directo \n"
   ]
  },
  {
   "cell_type": "code",
   "execution_count": 25,
   "id": "d11644bb-0329-4a4d-af21-40e0c6ea776b",
   "metadata": {
    "tags": []
   },
   "outputs": [
    {
     "name": "stdout",
     "output_type": "stream",
     "text": [
      "{1: 'Madrid', 2: 'Paris', 'hola': 'adios', 'personalidad': 'obsesiva', 'pelo': 'rubio', 'sueldo': 1800}\n",
      "2277680370112\n",
      "2277680371584\n",
      "2277680430016\n"
     ]
    }
   ],
   "source": [
    "#Para crear un diccionario de dos o más diccionarios tenems las siguentes \n",
    "#sintaxis \n",
    "diccion1= {1:\"Madrid\", 2:\"Paris\", \"hola\": \"adios\"}\n",
    "diccion2= {\"personalidad\" : \"obsesiva\", \"pelo\" : \"rubio\", \"sueldo\" : 1800}\n",
    "diccion3 = {**diccion1,**diccion2}\n",
    "print(diccion3)\n",
    "print(id(diccion1))\n",
    "print(id(diccion2))\n",
    "print(id(diccion3))"
   ]
  },
  {
   "cell_type": "code",
   "execution_count": 30,
   "id": "8e8c1d86-3e37-4ba8-a480-73a0ca8b8432",
   "metadata": {
    "tags": []
   },
   "outputs": [
    {
     "name": "stdout",
     "output_type": "stream",
     "text": [
      "{1: 'Madrid', 2: 'Paris', 'hola': 'adios', 'personalidad': 'obsesiva', 'pelo': 'rubio', 'sueldo': 1800}\n",
      "{}\n"
     ]
    },
    {
     "ename": "NameError",
     "evalue": "name 'diccion3' is not defined",
     "output_type": "error",
     "traceback": [
      "\u001b[1;31m---------------------------------------------------------------------------\u001b[0m",
      "\u001b[1;31mNameError\u001b[0m                                 Traceback (most recent call last)",
      "Cell \u001b[1;32mIn[30], line 8\u001b[0m\n\u001b[0;32m      6\u001b[0m \u001b[38;5;28mprint\u001b[39m(diccion3) \u001b[38;5;66;03m# esta vació pero no eliminado para borrarlo todo se usa \u001b[39;00m\n\u001b[0;32m      7\u001b[0m \u001b[38;5;28;01mdel\u001b[39;00m(diccion3)\n\u001b[1;32m----> 8\u001b[0m \u001b[38;5;28mprint\u001b[39m(diccion3)\n",
      "\u001b[1;31mNameError\u001b[0m: name 'diccion3' is not defined"
     ]
    }
   ],
   "source": [
    "diccion3 = {**diccion1,**diccion2}\n",
    "print(diccion3)\n",
    "#Para borrar el cotenido de un diccionario \n",
    "diccion3.clear() #Parecido o del (diccion3) en vez de eliminar el objeto de \n",
    "#la memoria, simplemente lo vacia\n",
    "print(diccion3) # esta vació pero no eliminado para borrarlo todo se usa \n",
    "del(diccion3)\n",
    "print(diccion3) # da error porque ya no existe la variable\n"
   ]
  },
  {
   "cell_type": "markdown",
   "id": "b4408ce2-98af-4415-9ffa-b6f63b0f17ab",
   "metadata": {
    "jp-MarkdownHeadingCollapsed": true,
    "tags": []
   },
   "source": [
    "## Estructura de datos set() o Conjunto \n",
    "\n",
    "Colección de datos ordenada que no admite repeticiones\n",
    "\n",
    "Equivalente a los conjuntos matemáticos\n",
    "\n",
    "Son inmutables(excepto a qie se pueden añadir i quitar elementos )"
   ]
  },
  {
   "cell_type": "code",
   "execution_count": 31,
   "id": "ee6ad539-d812-4f51-89e3-d3d0bd3c3956",
   "metadata": {
    "tags": []
   },
   "outputs": [
    {
     "name": "stdout",
     "output_type": "stream",
     "text": [
      "{1, 2, 3, 5, 7}\n"
     ]
    }
   ],
   "source": [
    "conjunto = {1,2,5,5,3,7,7}\n",
    "print(conjunto)"
   ]
  },
  {
   "cell_type": "code",
   "execution_count": 34,
   "id": "e1cdfccc-b382-4dfb-bdeb-04258e0dc132",
   "metadata": {
    "tags": []
   },
   "outputs": [
    {
     "name": "stdout",
     "output_type": "stream",
     "text": [
      "{1, 2, 3, 5, 7, 'janders'}\n"
     ]
    },
    {
     "ename": "TypeError",
     "evalue": "set expected at most 1 argument, got 6",
     "output_type": "error",
     "traceback": [
      "\u001b[1;31m---------------------------------------------------------------------------\u001b[0m",
      "\u001b[1;31mTypeError\u001b[0m                                 Traceback (most recent call last)",
      "Cell \u001b[1;32mIn[34], line 6\u001b[0m\n\u001b[0;32m      4\u001b[0m conjunto\u001b[38;5;241m.\u001b[39madd(\u001b[38;5;124m\"\u001b[39m\u001b[38;5;124mjanders\u001b[39m\u001b[38;5;124m\"\u001b[39m)\n\u001b[0;32m      5\u001b[0m \u001b[38;5;28mprint\u001b[39m(conjunto)\n\u001b[1;32m----> 6\u001b[0m conjunto_2\u001b[38;5;241m=\u001b[39m \u001b[38;5;28mset\u001b[39m(\u001b[38;5;241m1\u001b[39m,\u001b[38;5;241m2\u001b[39m,\u001b[38;5;241m5\u001b[39m,\u001b[38;5;241m5\u001b[39m,\u001b[38;5;241m3\u001b[39m,\u001b[38;5;241m7\u001b[39m,)\n",
      "\u001b[1;31mTypeError\u001b[0m: set expected at most 1 argument, got 6"
     ]
    }
   ],
   "source": [
    "#Funciones o métodos de la clase set()\n",
    "#El método add()\n",
    "conjunto.add(7)\n",
    "conjunto.add(\"janders\")\n",
    "print(conjunto)\n",
    "conjunto_2= set(1,2,5,5,3,7,)\n",
    "#El "
   ]
  },
  {
   "cell_type": "code",
   "execution_count": null,
   "id": "247b5c29-7533-445f-bd8d-7ac713018198",
   "metadata": {},
   "outputs": [],
   "source": [
    "#el metodo para borrar \n",
    "conjunto.clear"
   ]
  },
  {
   "cell_type": "code",
   "execution_count": 38,
   "id": "02be0f13-b236-4c6e-9b15-4aed777b45c0",
   "metadata": {
    "tags": []
   },
   "outputs": [],
   "source": [
    "#EL METODO .UNION(CONJUNTO) me devuelve otro conjunto con la unión del qie\n",
    "#invoca el metodo el que paso como argumento o utilizando\n",
    "#conjunto3 = conjunto2 | conjunto 3 que es lo mismo\n",
    "\n",
    "conj3={1,2,3,4,5,6}\n",
    "conj4={2,3,4,7,8,9}"
   ]
  },
  {
   "cell_type": "code",
   "execution_count": 42,
   "id": "1d4050b3-99d5-4120-aa9c-dfea5fbf7f66",
   "metadata": {
    "tags": []
   },
   "outputs": [
    {
     "name": "stdout",
     "output_type": "stream",
     "text": [
      "{1, 5, 6}\n",
      "{8, 9, 7}\n"
     ]
    }
   ],
   "source": [
    "#El método .difference(conjunto) me da la diferencia de elementos equivalente \n",
    "#a conjunto_invocador - conjunto_argumento\n",
    "conj7= conj3.difference(conj4)\n",
    "print(conj7)\n",
    "conj8= conj4.difference(conj3)\n",
    "print(conj8)"
   ]
  },
  {
   "cell_type": "code",
   "execution_count": 44,
   "id": "ebb6a90a-8093-46bb-a108-93e4ecead07f",
   "metadata": {
    "tags": []
   },
   "outputs": [
    {
     "name": "stdout",
     "output_type": "stream",
     "text": [
      "{1, 2, 3, 4}\n"
     ]
    }
   ],
   "source": [
    "#el metodo .intersection() devuelve la intersección del conjunto \n",
    "#invocador con el conjunto pasado por argumento \n",
    "conjunto3={1,2,3,4,5,6}\n",
    "conjunto4={1,2,3,4,7,8,9}\n",
    "print(conjunto3.intersection(conjunto4)) # y da lo mismo a contrario de .difference"
   ]
  },
  {
   "cell_type": "code",
   "execution_count": 53,
   "id": "60bab7e5-4d02-43e6-8894-1787e5d828a9",
   "metadata": {
    "tags": []
   },
   "outputs": [
    {
     "name": "stdout",
     "output_type": "stream",
     "text": [
      "False\n",
      "True\n",
      "True\n",
      "True\n"
     ]
    }
   ],
   "source": [
    "#operaciones o métodos lógicos con conjuntos \n",
    "conj1= {1,2,3,4,5,6,7,8,9,10}\n",
    "conj2={5,6,7,8}\n",
    "conj3={7,8,9,10,11,12}\n",
    "conj4={9,10,11}\n",
    "print(conj1.isdisjoint(conj3)) #devuelve True si no tiene intersección\n",
    "print(conj2.isdisjoint(conj4))\n",
    "print(conj2.issubset(conj1)) #Devuelve True si conj es subconj de conj1 (False)\n",
    "print(conj3.issuperset(conj4))# Devuelve "
   ]
  },
  {
   "cell_type": "code",
   "execution_count": 2,
   "id": "36d979c2-79f7-406b-9a7a-477674835a05",
   "metadata": {},
   "outputs": [
    {
     "name": "stdout",
     "output_type": "stream",
     "text": [
      "False\n",
      "True\n",
      "False\n",
      "{8, 3, 4, 7}\n"
     ]
    }
   ],
   "source": [
    "#set.union()\n",
    "#set.intersection()\n",
    "#set.issubset() --> siempre que un meétodo empieza por is ... devuelve True o False\n",
    "conjunto = {1,2,3,4,5,6,7,8}\n",
    "print(conjunto.issubset({1,2,3}))\n",
    "#set.issuperset()\n",
    "print(conjunto.issuperset({1,2}))\n",
    "#set.isdisjoint()\n",
    "print(conjunto.isdisjoint({3,4}))\n",
    "conj2 = conjunto - {1,2,5,6}\n",
    "print(conj2)\n",
    "conj3 = conj2 | {1,2,5,6}\n",
    "print(conj3)\n",
    "conj4 = conjunto & {1,2,5,6}\n",
    "print(conj4)"
   ]
  },
  {
   "cell_type": "code",
   "execution_count": 3,
   "id": "9c573daa-1827-4747-95e8-154f3b5dbea2",
   "metadata": {
    "tags": []
   },
   "outputs": [
    {
     "name": "stdout",
     "output_type": "stream",
     "text": [
      "1\n"
     ]
    }
   ],
   "source": [
    "tupla = (1,2,3, [1,2,3], 5)\n",
    "print(tupla[0])\n",
    "tupla[3][0] = 7"
   ]
  },
  {
   "cell_type": "markdown",
   "id": "4596bc94-80a7-4cdb-a8d4-f29259a494b9",
   "metadata": {
    "tags": []
   },
   "source": [
    "## Listas multidimensionales\n",
    "##### Acceso a estas listas: sintaxis\n"
   ]
  },
  {
   "cell_type": "code",
   "execution_count": null,
   "id": "f1e07116-ab46-4b07-a2e7-b664bf89fc44",
   "metadata": {},
   "outputs": [],
   "source": [
    "lista_matriz = [\n",
    "    [1,2,3],\n",
    "    [4,5,6],\n",
    "    [7,8,9]\n",
    "]\n",
    "print(lista[0][1]) #inidece 0 y despues la segunda casilla es uno porque el primer nombre es 0\n",
    "lista_matriz2 = [\n",
    "    [1,2,[4,5,6],3],\n",
    "    [7,8,9,10],\n",
    "    [11,12,13,14]\n",
    "]\n",
    "print(lista_matriz2[1][3])\n"
   ]
  },
  {
   "cell_type": "markdown",
   "id": "1532ad87-be40-4f15-982c-2da36161e608",
   "metadata": {
    "tags": []
   },
   "source": [
    "## Estructura de control de flujo \n",
    "### Estructuras condicionales\n",
    "* if-else, if-elif-else, match-case\n",
    "* Comparadores relacionales\n"
   ]
  },
  {
   "cell_type": "code",
   "execution_count": 13,
   "id": "5858b5e6-7bcd-4951-9127-42f947d85eed",
   "metadata": {
    "tags": []
   },
   "outputs": [
    {
     "name": "stdout",
     "output_type": "stream",
     "text": [
      "True\n",
      "False\n",
      "True\n"
     ]
    }
   ],
   "source": [
    "#Operadores relacionales\n",
    "print(5 < 6) # < (si a es menor que b ) --> Devuelve True o False\n",
    "print (5 > 6) \n",
    "print(5<=6)\n"
   ]
  },
  {
   "cell_type": "code",
   "execution_count": null,
   "id": "e019e497-342d-47cb-a5ae-b67f8fed9eb0",
   "metadata": {},
   "outputs": [],
   "source": [
    "# Sentencia if- else\n",
    "''' if condicion:\n",
    "            código si se cumple la condición.\n",
    "        else: --> no es obligatoria\n",
    "            código si no se cumple la condición\n",
    "'''\n"
   ]
  },
  {
   "cell_type": "markdown",
   "id": "9a79c935-8143-4f05-a4be-de3a30dcc66e",
   "metadata": {},
   "source": [
    "## Bucles\n",
    "#### While - else"
   ]
  },
  {
   "cell_type": "code",
   "execution_count": 1,
   "id": "eb6e1044-449c-41b8-94a0-43839a96eac0",
   "metadata": {
    "tags": []
   },
   "outputs": [
    {
     "name": "stdin",
     "output_type": "stream",
     "text": [
      "introduce la cifra inicial 1\n",
      "Introduce un número entero 5\n"
     ]
    },
    {
     "name": "stdout",
     "output_type": "stream",
     "text": [
      "2 es un numero par\n",
      "4 es un numero par\n",
      "se ha acabado\n"
     ]
    }
   ],
   "source": [
    "#while condición(condiciones):\n",
    "cifra_inicial = int(input(\"introduce la cifra inicial\"))\n",
    "i = cifra_inicial\n",
    "numero=  int(input(\"Introduce un número entero\"))\n",
    "while i <=numero: #para ejemplo i =1 i numero = 5 en ña primera itera1\n",
    "    if i % 2 == 0 :\n",
    "        print(f\"{i} es un numero par\")\n",
    "    i +=1 #abreviación de i = i+i\n",
    "print(\"se ha acabado\")"
   ]
  },
  {
   "cell_type": "code",
   "execution_count": 3,
   "id": "3cbcccd9-e033-4bce-99c0-6f85de53ae4e",
   "metadata": {
    "tags": []
   },
   "outputs": [
    {
     "name": "stdout",
     "output_type": "stream",
     "text": [
      "introduce 1 si quieres que te salude \n",
      "introduce 2 si quieres que te insulte \n",
      "introduce 3 si quieres salir \n"
     ]
    },
    {
     "name": "stdin",
     "output_type": "stream",
     "text": [
      " 2\n"
     ]
    },
    {
     "name": "stdout",
     "output_type": "stream",
     "text": [
      "polla\n",
      "introduce 1 si quieres que te salude \n",
      "introduce 2 si quieres que te insulte \n",
      "introduce 3 si quieres salir \n"
     ]
    },
    {
     "name": "stdin",
     "output_type": "stream",
     "text": [
      " 3\n"
     ]
    }
   ],
   "source": [
    "#El while se puede usar de forma controlada para\n",
    "#crear menus interactivos --> usos break\n",
    "#break finaliza el bucle\n",
    "while True:\n",
    "    print(\"introduce 1 si quieres que te salude \")\n",
    "    print(\"introduce 2 si quieres que te insulte \")\n",
    "    print(\"introduce 3 si quieres salir \")\n",
    "    valor = input()\n",
    "    match valor:\n",
    "        case \"1\":\n",
    "            print(\"hola\")\n",
    "        case \"2\":\n",
    "            print(\"polla\")\n",
    "        case \"3\":\n",
    "            break\n",
    "        case _:\n",
    "            print(\"capullo\")\n",
    "                "
   ]
  },
  {
   "cell_type": "code",
   "execution_count": null,
   "id": "508dcc4f-3aa9-47d7-b4b5-6b6d18c95235",
   "metadata": {
    "tags": []
   },
   "outputs": [],
   "source": [
    "#uso de la sentencia-palabra reservada continue\n",
    "#continue suspende la interación actual para pasar directamente\n",
    "#a la siguiente del bucle.\n",
    "\n",
    "cifra_inicial = int(input(\"introduce la cifra inicial\"))\n",
    "i = cifra_inicial\n",
    "numero=  int(input(\"Introduce un número entero\"))\n",
    "while i <=numero: \n",
    "    if i % 2 == 0 :\n",
    "        print(f\"{i} es un numero par\")\n",
    "        i +=1\n",
    "        continue\n",
    "    print(i,\"es un numero impar\")\n",
    "    i += 1"
   ]
  },
  {
   "cell_type": "code",
   "execution_count": 1,
   "id": "1ca306fa-c62a-41d4-b21e-2f19fbae94e0",
   "metadata": {
    "tags": []
   },
   "outputs": [
    {
     "name": "stdout",
     "output_type": "stream",
     "text": [
      "h\n",
      "o\n",
      "l\n",
      "a\n",
      "h\n",
      "o\n",
      "l\n",
      "a\n"
     ]
    }
   ],
   "source": [
    "#uso del bucle for - in \n",
    "#for <valor> in <iterable>\n",
    "\n",
    "cadena =\"hola\"\n",
    "i = 0\n",
    "while i < len(cadena):\n",
    "    print(cadena[i])\n",
    "    i += 1\n",
    "# Hagamos lo mismo con un for\n",
    "for letra in cadena:\n",
    "    print(letra)\n",
    "\n"
   ]
  },
  {
   "cell_type": "code",
   "execution_count": null,
   "id": "b91edb68-0ca8-4970-89d3-25b038bc48bb",
   "metadata": {},
   "outputs": [],
   "source": [
    "# funcion enumerate para saber el subindice\n",
    "for i, valor in lista "
   ]
  },
  {
   "cell_type": "markdown",
   "id": "bb3f5617-f9c1-4cea-8390-626050214008",
   "metadata": {},
   "source": [
    "## Bucles anidados\n"
   ]
  },
  {
   "cell_type": "code",
   "execution_count": null,
   "id": "83fdbd90-9d21-4a94-8901-cb2e2ad2e2a8",
   "metadata": {},
   "outputs": [],
   "source": [
    "lista_multi = [\n",
    "    [1,2,3,4,5],\n",
    "    [6,7,[1,2,3],8,9],\n",
    "    [10,11,12,13,14]\n",
    "]\n",
    "i = 0\n",
    "j= 0\n",
    "k= 0\n",
    "while i <len(lista_multi):\n",
    "    while j < len(lista_multi[i]):"
   ]
  }
 ],
 "metadata": {
  "kernelspec": {
   "display_name": "Python 3 (ipykernel)",
   "language": "python",
   "name": "python3"
  },
  "language_info": {
   "codemirror_mode": {
    "name": "ipython",
    "version": 3
   },
   "file_extension": ".py",
   "mimetype": "text/x-python",
   "name": "python",
   "nbconvert_exporter": "python",
   "pygments_lexer": "ipython3",
   "version": "3.11.4"
  }
 },
 "nbformat": 4,
 "nbformat_minor": 5
}
